{
 "cells": [
  {
   "cell_type": "code",
   "execution_count": 1,
   "id": "dddffad5",
   "metadata": {},
   "outputs": [],
   "source": [
    "import numpy as np\n",
    "import random"
   ]
  },
  {
   "cell_type": "code",
   "execution_count": 2,
   "id": "0e404902",
   "metadata": {},
   "outputs": [],
   "source": [
    "class QLearningAgent:\n",
    "    def __init__(self, num_states, num_actions, learning_rate=0.1, discount_factor=0.9, exploration_prob=0.1):\n",
    "        self.num_states = num_states\n",
    "        self.num_actions = num_actions\n",
    "        self.learning_rate = learning_rate\n",
    "        self.discount_factor = discount_factor\n",
    "        self.exploration_prob = exploration_prob\n",
    "        self.q_table = np.zeros((num_states, num_actions))\n",
    "\n",
    "    def choose_action(self, state):\n",
    "        if random.uniform(0, 1) < self.exploration_prob:\n",
    "            return random.choice(range(self.num_actions))  # Explore\n",
    "        else:\n",
    "            return np.argmax(self.q_table[state, :])  # Exploit\n",
    "\n",
    "    def update_q_table(self, state, action, reward, next_state):\n",
    "        predict = self.q_table[state, action]\n",
    "        target = reward + self.discount_factor * np.max(self.q_table[next_state, :])\n",
    "        self.q_table[state, action] += self.learning_rate * (target - predict)"
   ]
  },
  {
   "cell_type": "code",
   "execution_count": 3,
   "id": "decbb0fa",
   "metadata": {},
   "outputs": [],
   "source": [
    "def play_game_with_agent(agent, num_states, num_actions):\n",
    "    print(\"Welcome to the Q-Learning Game!\")\n",
    "    state = 0  \n",
    "    done = False\n",
    "\n",
    "    while not done:\n",
    "        print(f\"Current state: {state}\")\n",
    "        user_action = int(input(\"Enter your action (0 or 1): \"))\n",
    "        reward = 0\n",
    "        next_state = (state + user_action) % num_states\n",
    "        if next_state == num_states - 1:\n",
    "            print(\"Congratulations! You reached the final state.\")\n",
    "            reward = 1\n",
    "            done = True\n",
    "\n",
    "        agent.update_q_table(state, user_action, reward, next_state)\n",
    "        state = next_state\n",
    "\n",
    "        print(f\"Agent's turn...\")\n",
    "        agent_action = agent.choose_action(state)\n",
    "        reward = 0\n",
    "        next_state = (state + agent_action) % num_states\n",
    "        if next_state == num_states - 1:\n",
    "            print(\"The agent reached the final state.\")\n",
    "            reward = 1\n",
    "            done = True\n",
    "\n",
    "        agent.update_q_table(state, agent_action, reward, next_state)\n",
    "        state = next_state\n",
    "\n",
    "    print(\"Game over.\")"
   ]
  },
  {
   "cell_type": "code",
   "execution_count": 4,
   "id": "c0a5cfd6",
   "metadata": {},
   "outputs": [
    {
     "name": "stdout",
     "output_type": "stream",
     "text": [
      "Welcome to the Q-Learning Game!\n",
      "Current state: 0\n",
      "Enter your action (0 or 1): 0\n",
      "Agent's turn...\n",
      "Current state: 0\n",
      "Enter your action (0 or 1): 1\n",
      "Agent's turn...\n",
      "Current state: 1\n",
      "Enter your action (0 or 1): 1\n",
      "Agent's turn...\n",
      "Current state: 2\n",
      "Enter your action (0 or 1): 1\n",
      "Agent's turn...\n",
      "Current state: 3\n",
      "Enter your action (0 or 1): 1\n",
      "Agent's turn...\n",
      "Current state: 4\n",
      "Enter your action (0 or 1): 1\n",
      "Agent's turn...\n",
      "Current state: 5\n",
      "Enter your action (0 or 1): 1\n",
      "Agent's turn...\n",
      "Current state: 6\n",
      "Enter your action (0 or 1): 1\n",
      "Agent's turn...\n",
      "Current state: 7\n",
      "Enter your action (0 or 1): 1\n",
      "Agent's turn...\n",
      "The agent reached the final state.\n",
      "Game over.\n"
     ]
    }
   ],
   "source": [
    "if __name__ == \"__main__\":\n",
    "    num_states = 10  \n",
    "    num_actions = 2  \n",
    "\n",
    "    agent = QLearningAgent(num_states, num_actions)\n",
    "\n",
    "    play_game_with_agent(agent, num_states, num_actions)"
   ]
  },
  {
   "cell_type": "code",
   "execution_count": null,
   "id": "dbf75f7d",
   "metadata": {},
   "outputs": [],
   "source": []
  }
 ],
 "metadata": {
  "kernelspec": {
   "display_name": "Python 3 (ipykernel)",
   "language": "python",
   "name": "python3"
  },
  "language_info": {
   "codemirror_mode": {
    "name": "ipython",
    "version": 3
   },
   "file_extension": ".py",
   "mimetype": "text/x-python",
   "name": "python",
   "nbconvert_exporter": "python",
   "pygments_lexer": "ipython3",
   "version": "3.11.5"
  }
 },
 "nbformat": 4,
 "nbformat_minor": 5
}
