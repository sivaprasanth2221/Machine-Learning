{
 "cells": [
  {
   "cell_type": "code",
   "execution_count": 1,
   "id": "0c17f4c5",
   "metadata": {},
   "outputs": [],
   "source": [
    "import numpy as np\n",
    "import gym\n",
    "import pygame"
   ]
  },
  {
   "cell_type": "code",
   "execution_count": 2,
   "id": "64b6602f",
   "metadata": {},
   "outputs": [],
   "source": [
    "env = gym.make('FrozenLake-v1',render_mode=\"human\")\n",
    "alpha = 0.1  # Learning rate\n",
    "gamma = 0.99  # Discount factor\n",
    "epsilon = 0.1  # Exploration rate\n",
    "action_space = env.action_space.n\n",
    "state_space = env.observation_space.n\n",
    "q_table = np.zeros((state_space, action_space))\n",
    "state_to_int = {}"
   ]
  },
  {
   "cell_type": "code",
   "execution_count": 3,
   "id": "71433160",
   "metadata": {},
   "outputs": [],
   "source": [
    "def map_state(state):\n",
    "    state_str = str(state)\n",
    "    if state_str not in state_to_int:\n",
    "        state_to_int[state_str] = len(state_to_int)\n",
    "    return state_to_int[state_str]"
   ]
  },
  {
   "cell_type": "code",
   "execution_count": null,
   "id": "9d9b4dcb",
   "metadata": {},
   "outputs": [
    {
     "name": "stderr",
     "output_type": "stream",
     "text": [
      "/Users/sivaprasanth/anaconda3/lib/python3.11/site-packages/gym/utils/passive_env_checker.py:233: DeprecationWarning: `np.bool8` is a deprecated alias for `np.bool_`.  (Deprecated NumPy 1.24)\n",
      "  if not isinstance(terminated, (bool, np.bool8)):\n"
     ]
    }
   ],
   "source": [
    "num_episodes = 1000\n",
    "for episode in range(num_episodes):\n",
    "    state = map_state(env.reset())\n",
    "    done = False\n",
    "\n",
    "    while not done:\n",
    "        # Exploration-exploitation trade-off\n",
    "        if np.random.uniform(0, 1) < epsilon:\n",
    "            action = env.action_space.sample()  # Explore\n",
    "        else:\n",
    "            action = np.argmax(q_table[state, :])  # Exploit\n",
    "\n",
    "        # Take the selected action\n",
    "        step_result = env.step(action)\n",
    "        next_state, reward, done, info, _ = step_result\n",
    "        next_state = map_state(next_state)\n",
    "\n",
    "        # Update Q-table\n",
    "        q_table[state, action] = (1 - alpha) * q_table[state, action] + alpha * (reward + gamma * np.max(q_table[next_state, :]))\n",
    "\n",
    "        state = next_state"
   ]
  },
  {
   "cell_type": "code",
   "execution_count": 4,
   "id": "0337aa4a",
   "metadata": {},
   "outputs": [
    {
     "name": "stderr",
     "output_type": "stream",
     "text": [
      "/Users/sivaprasanth/anaconda3/lib/python3.11/site-packages/gym/utils/passive_env_checker.py:233: DeprecationWarning: `np.bool8` is a deprecated alias for `np.bool_`.  (Deprecated NumPy 1.24)\n",
      "  if not isinstance(terminated, (bool, np.bool8)):\n"
     ]
    }
   ],
   "source": [
    "num_test_episodes = 100\n",
    "total_rewards = 0\n",
    "for _ in range(num_test_episodes):\n",
    "    state = map_state(env.reset())\n",
    "    done = False\n",
    "\n",
    "    while not done:\n",
    "        action = np.argmax(q_table[state, :])  # Choose the best action\n",
    "        step_result = env.step(action)\n",
    "        next_state, reward, done, info, _ = step_result\n",
    "        next_state = map_state(next_state)\n",
    "        total_rewards += reward\n",
    "        state = next_state"
   ]
  },
  {
   "cell_type": "code",
   "execution_count": 5,
   "id": "a4cde532",
   "metadata": {},
   "outputs": [
    {
     "name": "stdout",
     "output_type": "stream",
     "text": [
      "Average reward over 100 test episodes: 0.0\n"
     ]
    }
   ],
   "source": [
    "average_reward = total_rewards / num_test_episodes\n",
    "print(f\"Average reward over {num_test_episodes} test episodes: {average_reward}\")"
   ]
  },
  {
   "cell_type": "code",
   "execution_count": null,
   "id": "a27cb5d7",
   "metadata": {},
   "outputs": [],
   "source": [
    "env.close()"
   ]
  },
  {
   "cell_type": "code",
   "execution_count": null,
   "id": "9853ca90",
   "metadata": {},
   "outputs": [],
   "source": []
  }
 ],
 "metadata": {
  "kernelspec": {
   "display_name": "Python 3 (ipykernel)",
   "language": "python",
   "name": "python3"
  },
  "language_info": {
   "codemirror_mode": {
    "name": "ipython",
    "version": 3
   },
   "file_extension": ".py",
   "mimetype": "text/x-python",
   "name": "python",
   "nbconvert_exporter": "python",
   "pygments_lexer": "ipython3",
   "version": "3.11.5"
  }
 },
 "nbformat": 4,
 "nbformat_minor": 5
}
