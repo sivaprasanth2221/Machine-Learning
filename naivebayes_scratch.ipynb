{
 "cells": [
  {
   "cell_type": "code",
   "execution_count": 1,
   "id": "7d6e15e4",
   "metadata": {},
   "outputs": [
    {
     "name": "stdout",
     "output_type": "stream",
     "text": [
      "Accuracy: 100.0\n"
     ]
    }
   ],
   "source": [
    "import pandas as pd\n",
    "import numpy as np\n",
    "from sklearn.preprocessing import StandardScaler, LabelEncoder\n",
    "from sklearn.model_selection import train_test_split\n",
    "from sklearn.metrics import accuracy_score\n",
    "\n",
    "class NaiveBayesClassifier:\n",
    "    def fit(self, X, y):\n",
    "        self.X_train = X\n",
    "        self.y_train = y\n",
    "        self.classes = np.unique(y)\n",
    "        self.parameters = {}\n",
    "\n",
    "        for c in self.classes:\n",
    "            X_c = X[y == c]\n",
    "            self.parameters[c] = {\n",
    "                \"mean\": X_c.mean(axis=0),\n",
    "                \"var\": X_c.var(axis=0)\n",
    "            }\n",
    "\n",
    "    def _pdf(self, X, mean, var):\n",
    "        eps = 1e-6\n",
    "        numerator = np.exp(-((X - mean) ** 2) / (2 * var + eps))\n",
    "        denominator = np.sqrt(2 * np.pi * var + eps)\n",
    "        return numerator / denominator\n",
    "\n",
    "    def _predict_single(self, x):\n",
    "        posteriors = []\n",
    "\n",
    "        for c in self.classes:\n",
    "            prior = np.log(len(self.X_train[y_train == c]) / len(self.X_train))\n",
    "            posterior = np.sum(np.log(self._pdf(x, self.parameters[c][\"mean\"], self.parameters[c][\"var\"])))\n",
    "            posterior += prior\n",
    "            posteriors.append(posterior)\n",
    "\n",
    "        return self.classes[np.argmax(posteriors)]\n",
    "\n",
    "    def predict(self, X):\n",
    "        y_pred = [self._predict_single(x) for x in X]\n",
    "        return np.array(y_pred)\n",
    "\n",
    "df = pd.read_csv(\"atlanta_9-24-2016_9-30-2017.csv\")\n",
    "df = df.dropna(axis=1)\n",
    "\n",
    "encoder = LabelEncoder()\n",
    "df['Origin'] = encoder.fit_transform(df['Origin'])\n",
    "df['Commodity Name'] = encoder.fit_transform(df['Commodity Name'])\n",
    "df['City Name'] = encoder.fit_transform(df['City Name'])\n",
    "df['Package'] = encoder.fit_transform(df['Package'])\n",
    "df['Variety'] = encoder.fit_transform(df['Variety'])\n",
    "df['Date'] = encoder.fit_transform(df['Date'])\n",
    "df['Repack'] = encoder.fit_transform(df['Repack'])\n",
    "\n",
    "x = df.iloc[:, :10]\n",
    "y = df.iloc[:, 10]\n",
    "\n",
    "x_train, x_test, y_train, y_test = train_test_split(x, y, test_size=0.2, random_state=21)\n",
    "\n",
    "st_x = StandardScaler()\n",
    "x_train = st_x.fit_transform(x_train)\n",
    "x_test = st_x.transform(x_test)\n",
    "\n",
    "nb_classifier = NaiveBayesClassifier()\n",
    "nb_classifier.fit(x_train, y_train)\n",
    "y_pred = nb_classifier.predict(x_test)\n",
    "\n",
    "score = accuracy_score(y_test, y_pred)\n",
    "print(\"Accuracy:\", score * 100)"
   ]
  },
  {
   "cell_type": "code",
   "execution_count": null,
   "id": "ee8c4816",
   "metadata": {},
   "outputs": [],
   "source": []
  },
  {
   "cell_type": "code",
   "execution_count": null,
   "id": "96db1925",
   "metadata": {},
   "outputs": [],
   "source": []
  }
 ],
 "metadata": {
  "kernelspec": {
   "display_name": "Python 3 (ipykernel)",
   "language": "python",
   "name": "python3"
  },
  "language_info": {
   "codemirror_mode": {
    "name": "ipython",
    "version": 3
   },
   "file_extension": ".py",
   "mimetype": "text/x-python",
   "name": "python",
   "nbconvert_exporter": "python",
   "pygments_lexer": "ipython3",
   "version": "3.11.5"
  }
 },
 "nbformat": 4,
 "nbformat_minor": 5
}
