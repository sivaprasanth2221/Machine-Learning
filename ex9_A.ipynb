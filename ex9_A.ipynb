{
 "cells": [
  {
   "cell_type": "code",
   "execution_count": 24,
   "id": "5b9dbfdb",
   "metadata": {},
   "outputs": [],
   "source": [
    "from pyspark.sql import SparkSession\n",
    "from pyspark.ml.feature import VectorAssembler\n",
    "from pyspark.ml.clustering import BisectingKMeans\n",
    "import matplotlib.pyplot as plt"
   ]
  },
  {
   "cell_type": "code",
   "execution_count": 25,
   "id": "4c4b1998",
   "metadata": {},
   "outputs": [],
   "source": [
    "spark = SparkSession.builder.appName(\"Datefruit_BisectingKMeans\").getOrCreate()"
   ]
  },
  {
   "cell_type": "code",
   "execution_count": 26,
   "id": "7ab65f8d",
   "metadata": {},
   "outputs": [],
   "source": [
    "data = spark.read.csv(\"Date_Fruit_Datasets.csv\", header=True, inferSchema=True)"
   ]
  },
  {
   "cell_type": "code",
   "execution_count": 27,
   "id": "a9e8e454",
   "metadata": {},
   "outputs": [],
   "source": [
    "feature_cols = ['AREA', 'PERIMETER', 'MAJOR_AXIS', 'MINOR_AXIS', 'ECCENTRICITY',\n",
    "       'EQDIASQ', 'SOLIDITY', 'CONVEX_AREA', 'EXTENT', 'ASPECT_RATIO',\n",
    "       'ROUNDNESS', 'COMPACTNESS', 'SHAPEFACTOR_1', 'SHAPEFACTOR_2',\n",
    "       'SHAPEFACTOR_3', 'SHAPEFACTOR_4', 'MeanRR', 'MeanRG', 'MeanRB',\n",
    "       'StdDevRR', 'StdDevRG', 'StdDevRB', 'SkewRR', 'SkewRG', 'SkewRB',\n",
    "       'KurtosisRR', 'KurtosisRG', 'KurtosisRB', 'EntropyRR', 'EntropyRG',\n",
    "       'EntropyRB', 'ALLdaub4RR', 'ALLdaub4RG', 'ALLdaub4RB']"
   ]
  },
  {
   "cell_type": "code",
   "execution_count": 28,
   "id": "f71052a8",
   "metadata": {},
   "outputs": [],
   "source": [
    "assembler = VectorAssembler(inputCols=feature_cols, outputCol='features')\n",
    "data = assembler.transform(data)"
   ]
  },
  {
   "cell_type": "code",
   "execution_count": 29,
   "id": "98ee34e5",
   "metadata": {},
   "outputs": [],
   "source": [
    "kmeans = BisectingKMeans(k=3, featuresCol='features')"
   ]
  },
  {
   "cell_type": "code",
   "execution_count": 30,
   "id": "bfa495a2",
   "metadata": {},
   "outputs": [],
   "source": [
    "model = kmeans.fit(data)"
   ]
  },
  {
   "cell_type": "code",
   "execution_count": 31,
   "id": "f69ec829",
   "metadata": {},
   "outputs": [],
   "source": [
    "predictions = model.transform(data)"
   ]
  },
  {
   "cell_type": "code",
   "execution_count": 32,
   "id": "be6bfb6b",
   "metadata": {},
   "outputs": [
    {
     "name": "stdout",
     "output_type": "stream",
     "text": [
      "Cluster Centers:\n",
      "Cluster 0: [ 3.66694522e+05  2.28815459e+03  8.12875098e+02  5.78457470e+02\n",
      "  6.95403986e-01  6.79383718e+02  9.80345290e-01  3.73614645e+05\n",
      "  7.44273551e-01  1.42038080e+00  8.70301087e-01  8.35273913e-01\n",
      "  2.28768116e-03  1.60760870e-03  6.99657246e-01  9.83479710e-01\n",
      "  1.22407712e+02  1.15598458e+02  1.10562184e+02  3.17122283e+01\n",
      "  2.86719565e+01  2.84456656e+01 -3.57540580e-01 -3.85525362e-02\n",
      "  8.11666667e-03  2.90521630e+00  3.06223261e+00  3.32309819e+00\n",
      " -5.69298974e+10 -4.98929400e+10 -4.57447813e+10  6.12037442e+01\n",
      "  5.77999188e+01  5.52816656e+01]\n",
      "Cluster 1: [ 2.64736631e+05  1.88888751e+03  6.87665666e+02  4.75061200e+02\n",
      "  7.18883618e-01  5.67692615e+02  9.86483276e-01  2.68145785e+05\n",
      "  7.53019113e-01  1.48451058e+00  8.88251877e-01  8.21424915e-01\n",
      "  2.89385666e-03  1.93071672e-03  6.77440614e-01  9.90573720e-01\n",
      "  1.11223519e+02  1.07541898e+02  1.01724304e+02  3.12496611e+01\n",
      "  2.75751119e+01  2.77374024e+01 -2.51854608e-01  2.31994539e-01\n",
      "  2.44127304e-01  3.57601024e+00  4.04497338e+00  3.81488805e+00\n",
      " -3.02552979e+10 -2.77815282e+10 -2.52614708e+10  5.56116560e+01\n",
      "  5.37720563e+01  5.08634392e+01]\n",
      "Cluster 2: [ 2.70801140e+05  2.01460434e+03  7.54983598e+02  4.45126347e+02\n",
      "  7.89306079e-01  5.74672176e+02  9.78959574e-01  2.77109377e+05\n",
      "  7.14631611e-01  3.30316930e+00  8.19974772e-01  7.70953799e-01\n",
      "  4.86139818e-03  1.82978723e-03  5.98697264e-01  9.91355015e-01\n",
      "  7.16594067e+01  7.36726204e+01  7.92177106e+01  2.48506748e+01\n",
      "  2.34021018e+01  2.28058903e+01  7.67889362e-01  1.36554012e+00\n",
      "  4.59561094e-01  5.97250547e+00  7.77881398e+00  4.13476018e+00\n",
      " -1.22310968e+10 -1.26087033e+10 -1.47850408e+10  3.58297410e+01\n",
      "  3.68374198e+01  3.96098158e+01]\n"
     ]
    }
   ],
   "source": [
    "print(\"Cluster Centers:\")\n",
    "centers = model.clusterCenters()\n",
    "for i, center in enumerate(centers):\n",
    "    print(f\"Cluster {i}: {center}\")"
   ]
  },
  {
   "cell_type": "code",
   "execution_count": 33,
   "id": "1dae7069",
   "metadata": {},
   "outputs": [
    {
     "data": {
      "image/png": "[encoded data removed]",
      "text/plain": [
       "<Figure size 640x480 with 1 Axes>"
      ]
     },
     "metadata": {},
     "output_type": "display_data"
    }
   ],
   "source": [
    "cluster_assignment = predictions.select(\"prediction\").toPandas()\n",
    "plt.hist(cluster_assignment['prediction'], bins=range(4), alpha=0.5, color='green', edgecolor='pink', linewidth=1.2)\n",
    "plt.xlabel(\"Cluster\")\n",
    "plt.ylabel(\"Frequency\")\n",
    "plt.title(\"Cluster Assignments\")\n",
    "plt.show()"
   ]
  },
  {
   "cell_type": "code",
   "execution_count": 34,
   "id": "c8e0ecb6",
   "metadata": {},
   "outputs": [],
   "source": [
    "spark.stop()"
   ]
  },
  {
   "cell_type": "code",
   "execution_count": null,
   "id": "835aa76d",
   "metadata": {},
   "outputs": [],
   "source": []
  }
 ],
 "metadata": {
  "kernelspec": {
   "display_name": "Python 3 (ipykernel)",
   "language": "python",
   "name": "python3"
  },
  "language_info": {
   "codemirror_mode": {
    "name": "ipython",
    "version": 3
   },
   "file_extension": ".py",
   "mimetype": "text/x-python",
   "name": "python",
   "nbconvert_exporter": "python",
   "pygments_lexer": "ipython3",
   "version": "3.11.5"
  }
 },
 "nbformat": 4,
 "nbformat_minor": 5
}
