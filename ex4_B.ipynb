{
 "cells": [
  {
   "cell_type": "code",
   "execution_count": null,
   "id": "7a2413da",
   "metadata": {},
   "outputs": [],
   "source": [
    "import pandas as pd\n",
    "import numpy as np\n",
    "import neurolab as nl\n",
    "import matplotlib.pyplot as plt\n",
    "from sklearn.preprocessing import LabelEncoder\n",
    "from sklearn.model_selection import train_test_split\n",
    "from sklearn.metrics import accuracy_score\n",
    "\n",
    "df = pd.read_csv(\"Date_Fruit_Datasets.csv\")\n",
    "le = LabelEncoder()\n",
    "df['Class'] = le.fit_transform(df['Class'])\n",
    "labels = df.iloc[:, -1].values.reshape((-1, 1))\n",
    "features = df.iloc[:, :-1].values\n",
    "\n",
    "X_train, X_test, y_train, y_test = train_test_split(features, labels, test_size=0.2, random_state=1)\n",
    "\n",
    "inp = np.array(X_train)\n",
    "target = np.array(y_train)\n",
    "num_features = inp.shape[1]\n",
    "\n",
    "minmax = np.array([[min(col), max(col)] for col in inp.T])\n",
    "\n",
    "hidden_neurons = [10, 10]\n",
    "net = nl.net.newff(minmax=minmax, size=[num_features] + hidden_neurons + [target.shape[1]])\n",
    "\n",
    "error = net.train(inp, target, epochs=100, show=10, goal=0.7)\n",
    "\n",
    "plt.plot(error)\n",
    "plt.xlabel(\"Number of Epochs\")\n",
    "plt.ylabel(\"Training Error\")\n",
    "plt.title(\"Training Error Progress\")\n",
    "plt.grid()\n",
    "plt.show()\n",
    "\n",
    "inp_test = np.array(X_test)\n",
    "predicted_values = net.sim(inp_test)\n",
    "predicted_class = (predicted_values > 0.5).astype(int)\n",
    "\n",
    "accuracy = accuracy_score(y_test, predicted_class)\n",
    "print(f'Accuracy: {accuracy * 100:.2f}%')"
   ]
  }
 ],
 "metadata": {
  "kernelspec": {
   "display_name": "Python 3 (ipykernel)",
   "language": "python",
   "name": "python3"
  },
  "language_info": {
   "codemirror_mode": {
    "name": "ipython",
    "version": 3
   },
   "file_extension": ".py",
   "mimetype": "text/x-python",
   "name": "python",
   "nbconvert_exporter": "python",
   "pygments_lexer": "ipython3",
   "version": "3.11.5"
  }
 },
 "nbformat": 4,
 "nbformat_minor": 5
}
