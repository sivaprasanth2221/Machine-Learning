{
 "cells": [
  {
   "cell_type": "code",
   "execution_count": null,
   "metadata": {
    "id": "1Dg5WroAsYlC"
   },
   "outputs": [],
   "source": [
    "from pyspark.sql import SparkSession\n",
    "from pyspark.ml.feature import StringIndexer, VectorAssembler\n",
    "from pyspark.mllib.regression import LabeledPoint\n",
    "from pyspark.mllib.classification import SVMWithSGD\n",
    "from pyspark.ml.evaluation import MulticlassClassificationEvaluator\n",
    "import pandas as pd"
   ]
  },
  {
   "cell_type": "code",
   "execution_count": null,
   "metadata": {
    "id": "R9jN74-ltGCX"
   },
   "outputs": [],
   "source": [
    "spark = SparkSession.builder.appName(\"SVM\").getOrCreate()"
   ]
  },
  {
   "cell_type": "code",
   "execution_count": null,
   "metadata": {
    "colab": {
     "base_uri": "https://localhost:8080/",
     "height": 444
    },
    "id": "NiE7TfMTsjIl",
    "outputId": "cda0f123-dd5e-41d2-ee37-04d24e15a2af"
   },
   "outputs": [],
   "source": [
    "df=pd.read_csv(\"Date_Fruit_Datasets.csv\")\n",
    "df=df.dropna()\n",
    "df['AREA']=df['AREA'].astype(int)\n",
    "from sklearn.preprocessing import LabelEncoder\n",
    "lc=LabelEncoder()\n",
    "df['Class']=lc.fit_transform(df['Class'])\n",
    "df"
   ]
  },
  {
   "cell_type": "code",
   "execution_count": null,
   "metadata": {
    "id": "r3Nd2lTetccN"
   },
   "outputs": [],
   "source": [
    "data1 = spark.createDataFrame(df)"
   ]
  },
  {
   "cell_type": "code",
   "execution_count": null,
   "metadata": {
    "colab": {
     "base_uri": "https://localhost:8080/"
    },
    "id": "QMvHqGiKtgKl",
    "outputId": "a0753d14-96ba-45b3-be40-e8b53718a2e2"
   },
   "outputs": [],
   "source": [
    "data1"
   ]
  },
  {
   "cell_type": "code",
   "execution_count": null,
   "metadata": {
    "id": "jwSsJQWktjVK"
   },
   "outputs": [],
   "source": [
    "cl=list(df.columns[0:34])"
   ]
  },
  {
   "cell_type": "code",
   "execution_count": null,
   "metadata": {
    "id": "i0oUZy-TtlZW"
   },
   "outputs": [],
   "source": [
    "assembler = VectorAssembler(inputCols=cl,outputCol=\"features\")"
   ]
  },
  {
   "cell_type": "code",
   "execution_count": null,
   "metadata": {
    "colab": {
     "base_uri": "https://localhost:8080/"
    },
    "id": "kqParqbGtnNQ",
    "outputId": "b1c89207-3d89-4711-ce08-2e4ae5c0f1d2"
   },
   "outputs": [],
   "source": [
    "d=assembler.transform(data1)\n",
    "d = d.select(['features','Class'])\n",
    "d.show()"
   ]
  },
  {
   "cell_type": "code",
   "execution_count": null,
   "metadata": {
    "colab": {
     "base_uri": "https://localhost:8080/"
    },
    "id": "jviRBmwltptg",
    "outputId": "14175f88-31eb-4edc-bb66-69033d9c2746"
   },
   "outputs": [],
   "source": [
    "train,test=d.randomSplit([0.8,0.2],seed=42)\n",
    "train.show(5)"
   ]
  },
  {
   "cell_type": "code",
   "execution_count": null,
   "metadata": {
    "id": "tZ5JBfmStykU"
   },
   "outputs": [],
   "source": [
    "label_train=[]\n",
    "for row in train.collect():\n",
    "    label_train.append(LabeledPoint(row[\"Class\"],[float(i) for i in row[\"features\"]]))\n",
    "label_test=[]\n",
    "for row in test.collect():\n",
    "    label_test.append(LabeledPoint(row[\"Class\"],[float(i) for i in row[\"features\"]]))"
   ]
  },
  {
   "cell_type": "code",
   "execution_count": null,
   "metadata": {
    "id": "9Cvl0C8it_G-"
   },
   "outputs": [],
   "source": [
    "rdd_train=spark.sparkContext.parallelize(label_train)\n",
    "rdd_test=spark.sparkContext.parallelize(label_test)\n"
   ]
  },
  {
   "cell_type": "code",
   "execution_count": null,
   "metadata": {
    "id": "ChkTIah9uB8x"
   },
   "outputs": [],
   "source": [
    "svm=SVMWithSGD()\n",
    "svm_model=svm.train(rdd_train)\n",
    "predictions = rdd_test.map(lambda point: (float(svm_model.predict(point.features)), point.label))\n",
    "predictions_df = spark.createDataFrame(predictions, [\"prediction\", \"label\"])"
   ]
  },
  {
   "cell_type": "code",
   "execution_count": null,
   "metadata": {
    "colab": {
     "base_uri": "https://localhost:8080/"
    },
    "id": "uWLctry7uDtN",
    "outputId": "9162f159-ab52-4fa4-e96b-1c474d74248d"
   },
   "outputs": [],
   "source": [
    "evaluator = MulticlassClassificationEvaluator(labelCol=\"label\", predictionCol=\"prediction\", metricName=\"accuracy\")\n",
    "accuracy = evaluator.evaluate(predictions_df)\n",
    "\n",
    "print(\"Accuracy:\", accuracy)\n"
   ]
  },
  {
   "cell_type": "code",
   "execution_count": null,
   "metadata": {
    "id": "OmTzWCZYuItI"
   },
   "outputs": [],
   "source": []
  }
 ],
 "metadata": {
  "colab": {
   "provenance": []
  },
  "kernelspec": {
   "display_name": "Python 3 (ipykernel)",
   "language": "python",
   "name": "python3"
  },
  "language_info": {
   "codemirror_mode": {
    "name": "ipython",
    "version": 3
   },
   "file_extension": ".py",
   "mimetype": "text/x-python",
   "name": "python",
   "nbconvert_exporter": "python",
   "pygments_lexer": "ipython3",
   "version": "3.11.5"
  }
 },
 "nbformat": 4,
 "nbformat_minor": 1
}
