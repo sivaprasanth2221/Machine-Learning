{
 "cells": [
  {
   "cell_type": "code",
   "execution_count": 1,
   "id": "d1cfab69",
   "metadata": {},
   "outputs": [],
   "source": [
    "import math as m\n",
    "import pandas as pd\n",
    "from sklearn.preprocessing import LabelEncoder"
   ]
  },
  {
   "cell_type": "code",
   "execution_count": 2,
   "id": "cf51e958",
   "metadata": {},
   "outputs": [],
   "source": [
    "data=pd.read_csv(\"Date_Fruit_Datasets.csv\")\n",
    "input_data=data.iloc[:,:-1].values"
   ]
  },
  {
   "cell_type": "code",
   "execution_count": 3,
   "id": "bed5fd59",
   "metadata": {},
   "outputs": [],
   "source": [
    "en=LabelEncoder()\n",
    "data['Class']=en.fit_transform(data['Class'])\n",
    "target=data.iloc[:,-1].values"
   ]
  },
  {
   "cell_type": "code",
   "execution_count": 4,
   "id": "3fbffedc",
   "metadata": {},
   "outputs": [],
   "source": [
    "def weight(g=1, h=0, weights=None):\n",
    "    lr = g\n",
    "    bias = h\n",
    "    if weights is None:\n",
    "        weights = [0.3] * 35\n",
    "    return lr, bias, weights\n",
    "\n",
    "l = 1\n",
    "thre = 0.5\n",
    "\n",
    "def sigmoid(x):\n",
    "    s_g = 1 / (1 + m.e**(-l * x))\n",
    "    return s_g\n",
    "\n",
    "def binary(x):\n",
    "    if x > 0.1 and x<=0.2:\n",
    "        return 1\n",
    "    elif x>0.2 and x<=0.3:\n",
    "        return 2\n",
    "    elif x>0.3 and x<=0.4:\n",
    "        return 3\n",
    "    elif x>0.4 and x<=0.5:\n",
    "        return 4\n",
    "    elif x>0.5 and x<=0.6:\n",
    "        return 5\n",
    "    elif x>0.8 and x<=1:\n",
    "        return 6\n",
    "    else:\n",
    "        return 0\n",
    "\n",
    "def perceptron(i, t):\n",
    "    lr, bias, weights = weight()\n",
    "    y_in = bias + sum(w * x for w, x in zip(weights[1:], i))\n",
    "    Y = binary(y_in)\n",
    "\n",
    "    if Y == t:\n",
    "        return Y\n",
    "    else:\n",
    "        for j in range(len(weights) - 1):\n",
    "            weights[j+1] += lr * t * i[j]\n",
    "        bias += lr * t\n",
    "        weight(1, bias, weights)\n",
    "        return Y\n",
    "def main():\n",
    "    c = 0\n",
    "    while True:\n",
    "        re = []\n",
    "        for j in range(len(input_data)):\n",
    "            re.append(perceptron(input_data[j], target[j]))\n",
    "        c += 1\n",
    "        match = all(re[j] == target[j] for j in range(len(re)))\n",
    "\n",
    "        if match or c == 100:\n",
    "            return re\n",
    "\n",
    "a = main()"
   ]
  },
  {
   "cell_type": "code",
   "execution_count": 5,
   "id": "b489a23f",
   "metadata": {},
   "outputs": [
    {
     "data": {
      "text/plain": [
       "7.2383073496659245"
      ]
     },
     "execution_count": 5,
     "metadata": {},
     "output_type": "execute_result"
    }
   ],
   "source": [
    "from sklearn.metrics import accuracy_score\n",
    "accuracy_score(a,target)*100"
   ]
  }
 ],
 "metadata": {
  "kernelspec": {
   "display_name": "Python 3 (ipykernel)",
   "language": "python",
   "name": "python3"
  },
  "language_info": {
   "codemirror_mode": {
    "name": "ipython",
    "version": 3
   },
   "file_extension": ".py",
   "mimetype": "text/x-python",
   "name": "python",
   "nbconvert_exporter": "python",
   "pygments_lexer": "ipython3",
   "version": "3.11.5"
  }
 },
 "nbformat": 4,
 "nbformat_minor": 5
}
