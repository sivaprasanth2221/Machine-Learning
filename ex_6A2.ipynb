{
 "cells": [
  {
   "cell_type": "code",
   "execution_count": 1,
   "id": "51e67d49",
   "metadata": {},
   "outputs": [],
   "source": [
    "import math as m\n",
    "input1=[[0,0],[0,1],[1,0],[1,1]]\n",
    "target=[0,1,1,1]"
   ]
  },
  {
   "cell_type": "code",
   "execution_count": 2,
   "id": "ee05936b",
   "metadata": {},
   "outputs": [],
   "source": [
    "def weight(g=1,h=0,j=0.3,k=0.3):\n",
    "    l_r=g\n",
    "    b=h\n",
    "    we1=j\n",
    "    we2=k\n",
    "    return l_r,b,we1,we2\n",
    "l=1;\n",
    "thre=0.5\n",
    "def sigmoid(x):\n",
    "    s_g=1/(1+m.e**(-l*x))\n",
    "    return s_g\n",
    "def binary(x):\n",
    "    if(x>0.2):\n",
    "        return 1\n",
    "    else:\n",
    "        return 0\n",
    "def perceptron(i,t):\n",
    "    lr,bias,w1,w2=weight()\n",
    "    y_in=bias+w1*i[0]+w2*i[1]\n",
    "    Y=binary(y_in)\n",
    "    if(Y==t):\n",
    "        return Y\n",
    "    else:\n",
    "        w1=w1+lr*t*i[0]\n",
    "        w2=w2+lr*t*i[1]\n",
    "        bias=bias+lr*t\n",
    "        print(w1,w2,bias)\n",
    "        weight(1,bias,w1,w2)\n",
    "        return Y\n",
    "\n",
    "def main():\n",
    "    c=0\n",
    "    while(1):\n",
    "        re=[]\n",
    "        for j in range(len(input1)):\n",
    "            re.append(perceptron(input1[j],target[j]))\n",
    "        c=c+1\n",
    "        if(re==target) or (c==10):\n",
    "            return re"
   ]
  },
  {
   "cell_type": "code",
   "execution_count": 3,
   "id": "bf2c1c38",
   "metadata": {},
   "outputs": [
    {
     "name": "stdout",
     "output_type": "stream",
     "text": [
      "[0, 1, 1, 1]\n"
     ]
    }
   ],
   "source": [
    "a=main()\n",
    "print(a)"
   ]
  },
  {
   "cell_type": "code",
   "execution_count": null,
   "id": "ab7269ba",
   "metadata": {},
   "outputs": [],
   "source": []
  }
 ],
 "metadata": {
  "kernelspec": {
   "display_name": "Python 3 (ipykernel)",
   "language": "python",
   "name": "python3"
  },
  "language_info": {
   "codemirror_mode": {
    "name": "ipython",
    "version": 3
   },
   "file_extension": ".py",
   "mimetype": "text/x-python",
   "name": "python",
   "nbconvert_exporter": "python",
   "pygments_lexer": "ipython3",
   "version": "3.11.5"
  }
 },
 "nbformat": 4,
 "nbformat_minor": 5
}
