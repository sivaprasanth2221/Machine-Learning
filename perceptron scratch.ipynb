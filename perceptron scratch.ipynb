{
 "cells": [
  {
   "cell_type": "code",
   "execution_count": 1,
   "id": "87dd79e7",
   "metadata": {},
   "outputs": [
    {
     "name": "stdout",
     "output_type": "stream",
     "text": [
      "Input: [0 0], Prediction: 0\n",
      "Input: [0 1], Prediction: 0\n",
      "Input: [1 0], Prediction: 0\n",
      "Input: [1 1], Prediction: 1\n"
     ]
    }
   ],
   "source": [
    "import numpy as np\n",
    "\n",
    "class Perceptron:\n",
    "    def __init__(self, num_features):\n",
    "        self.weights = np.zeros(num_features)\n",
    "        self.bias = 0\n",
    "\n",
    "    def activation(self, x):\n",
    "        return 1 if x >= 0 else 0\n",
    "\n",
    "    def predict(self, x):\n",
    "        return self.activation(np.dot(self.weights, x) + self.bias)\n",
    "\n",
    "    def train(self, X, y, learning_rate=0.1, epochs=100):\n",
    "        for _ in range(epochs):\n",
    "            for i in range(len(X)):\n",
    "                prediction = self.predict(X[i])\n",
    "                update = learning_rate * (y[i] - prediction)\n",
    "                self.weights += update * X[i]\n",
    "                self.bias += update\n",
    "\n",
    "# Example usage:\n",
    "if __name__ == \"__main__\":\n",
    "    X = np.array([[0, 0], [0, 1], [1, 0], [1, 1]])\n",
    "    y = np.array([0, 0, 0, 1])\n",
    "\n",
    "    num_features = X.shape[1]\n",
    "\n",
    "    perceptron = Perceptron(num_features)\n",
    "    perceptron.train(X, y)\n",
    "\n",
    "    test_data = np.array([[0, 0], [0, 1], [1, 0], [1, 1]])\n",
    "    for sample in test_data:\n",
    "        prediction = perceptron.predict(sample)\n",
    "        print(f\"Input: {sample}, Prediction: {prediction}\")\n"
   ]
  },
  {
   "cell_type": "code",
   "execution_count": null,
   "id": "77fb38ae",
   "metadata": {},
   "outputs": [],
   "source": []
  }
 ],
 "metadata": {
  "kernelspec": {
   "display_name": "Python 3 (ipykernel)",
   "language": "python",
   "name": "python3"
  },
  "language_info": {
   "codemirror_mode": {
    "name": "ipython",
    "version": 3
   },
   "file_extension": ".py",
   "mimetype": "text/x-python",
   "name": "python",
   "nbconvert_exporter": "python",
   "pygments_lexer": "ipython3",
   "version": "3.11.5"
  }
 },
 "nbformat": 4,
 "nbformat_minor": 5
}
