{
 "cells": [
  {
   "cell_type": "code",
   "execution_count": 1,
   "id": "4935eefa",
   "metadata": {},
   "outputs": [],
   "source": [
    "import pandas as pd\n",
    "import numpy as np\n",
    "from sklearn.preprocessing import StandardScaler,LabelEncoder\n",
    "from sklearn.model_selection import train_test_split\n",
    "from sklearn.metrics import accuracy_score,confusion_matrix\n",
    "import matplotlib.pyplot as plt\n",
    "import seaborn as sns\n",
    "from sklearn.naive_bayes import GaussianNB"
   ]
  },
  {
   "cell_type": "code",
   "execution_count": 2,
   "id": "abb83d13",
   "metadata": {},
   "outputs": [
    {
     "data": {
      "text/plain": [
       "0           MICHIGAN\n",
       "1           MICHIGAN\n",
       "2           MICHIGAN\n",
       "3           MICHIGAN\n",
       "4           MICHIGAN\n",
       "5           MICHIGAN\n",
       "6           MICHIGAN\n",
       "7           MICHIGAN\n",
       "8           MICHIGAN\n",
       "9           MICHIGAN\n",
       "10          MICHIGAN\n",
       "11          MICHIGAN\n",
       "12           ALABAMA\n",
       "13          MICHIGAN\n",
       "14          MICHIGAN\n",
       "15          MICHIGAN\n",
       "16          MICHIGAN\n",
       "17           ALABAMA\n",
       "18          MICHIGAN\n",
       "19          MICHIGAN\n",
       "20          MICHIGAN\n",
       "21          MICHIGAN\n",
       "22           ALABAMA\n",
       "23          MICHIGAN\n",
       "24          MICHIGAN\n",
       "25          MICHIGAN\n",
       "26          MICHIGAN\n",
       "27           ALABAMA\n",
       "28          MICHIGAN\n",
       "29          MICHIGAN\n",
       "30          MICHIGAN\n",
       "31          MICHIGAN\n",
       "32            CANADA\n",
       "33          MICHIGAN\n",
       "34         TENNESSEE\n",
       "35          MICHIGAN\n",
       "36          MICHIGAN\n",
       "37          MICHIGAN\n",
       "38          MICHIGAN\n",
       "39    NORTH CAROLINA\n",
       "40    NORTH CAROLINA\n",
       "41    NORTH CAROLINA\n",
       "42    NORTH CAROLINA\n",
       "43    NORTH CAROLINA\n",
       "44    NORTH CAROLINA\n",
       "45    NORTH CAROLINA\n",
       "46    NORTH CAROLINA\n",
       "47    NORTH CAROLINA\n",
       "48    NORTH CAROLINA\n",
       "49          MICHIGAN\n",
       "50          MICHIGAN\n",
       "51          MICHIGAN\n",
       "52          MICHIGAN\n",
       "53          MICHIGAN\n",
       "54          MICHIGAN\n",
       "55          MICHIGAN\n",
       "56         TENNESSEE\n",
       "Name: Origin, dtype: object"
      ]
     },
     "execution_count": 2,
     "metadata": {},
     "output_type": "execute_result"
    }
   ],
   "source": [
    "df = pd.read_csv(\"atlanta_9-24-2016_9-30-2017.csv\")\n",
    "df = df.dropna(axis=1)\n",
    "df['Origin']"
   ]
  },
  {
   "cell_type": "code",
   "execution_count": 3,
   "id": "520acf10",
   "metadata": {},
   "outputs": [],
   "source": [
    "encoder = LabelEncoder()\n",
    "df['Origin'] = encoder.fit_transform(df['Origin'])\n",
    "df['Commodity Name'] = encoder.fit_transform(df['Commodity Name'])\n",
    "df['City Name'] = encoder.fit_transform(df['City Name'])\n",
    "df['Package'] = encoder.fit_transform(df['Package'])\n",
    "df['Variety'] = encoder.fit_transform(df['Variety'])\n",
    "df['Date'] = encoder.fit_transform(df['Date'])\n",
    "df['Repack'] = encoder.fit_transform(df['Repack'])"
   ]
  },
  {
   "cell_type": "code",
   "execution_count": 4,
   "id": "91bbbde5",
   "metadata": {},
   "outputs": [],
   "source": [
    "x = df.iloc[:, :10]\n",
    "y = df.iloc[:, 10]"
   ]
  },
  {
   "cell_type": "code",
   "execution_count": 5,
   "id": "6f796bb5",
   "metadata": {},
   "outputs": [],
   "source": [
    "x_train, x_test, y_train, y_test = train_test_split(x, y, test_size=0.2, random_state=1)"
   ]
  },
  {
   "cell_type": "code",
   "execution_count": 6,
   "id": "88d0e323",
   "metadata": {},
   "outputs": [],
   "source": [
    "st_x = StandardScaler()\n",
    "x_train = st_x.fit_transform(x_train)\n",
    "x_test = st_x.transform(x_test)"
   ]
  },
  {
   "cell_type": "code",
   "execution_count": 7,
   "id": "ac3a785d",
   "metadata": {},
   "outputs": [],
   "source": [
    "nb_classifier = GaussianNB()\n",
    "nb_classifier.fit(x_train, y_train)\n",
    "y_pred = nb_classifier.predict(x_test)"
   ]
  },
  {
   "cell_type": "code",
   "execution_count": 8,
   "id": "64088966",
   "metadata": {},
   "outputs": [
    {
     "name": "stdout",
     "output_type": "stream",
     "text": [
      "Accuracy: 100.0\n"
     ]
    }
   ],
   "source": [
    "score = accuracy_score(y_test, y_pred)\n",
    "print(\"Accuracy:\", score * 100)"
   ]
  },
  {
   "cell_type": "code",
   "execution_count": 9,
   "id": "a4cd83e7",
   "metadata": {},
   "outputs": [
    {
     "data": {
      "text/plain": [
       "array([[12]])"
      ]
     },
     "execution_count": 9,
     "metadata": {},
     "output_type": "execute_result"
    }
   ],
   "source": [
    "cm = confusion_matrix(y_test, y_pred)\n",
    "cm"
   ]
  },
  {
   "cell_type": "code",
   "execution_count": 10,
   "id": "6277a19e",
   "metadata": {},
   "outputs": [
    {
     "data": {
      "text/plain": [
       "<function matplotlib.pyplot.show(close=None, block=None)>"
      ]
     },
     "execution_count": 10,
     "metadata": {},
     "output_type": "execute_result"
    },
    {
     "data": {
      "image/png": "[encoded data removed]",
      "text/plain": [
       "<Figure size 640x480 with 2 Axes>"
      ]
     },
     "metadata": {},
     "output_type": "display_data"
    }
   ],
   "source": [
    "sns.heatmap(cm,annot=True,fmt ='g',xticklabels = ['MICHIGAN','ALABAMA'],yticklabels = ['MICHIGAN','ALABAMA'])\n",
    "plt.ylabel('PREDICTION',fontsize=13)\n",
    "plt.xlabel('ACTUAL',fontsize=13)\n",
    "plt.title('CONFUSION MATRIX',fontsize=17)\n",
    "plt.show"
   ]
  },
  {
   "cell_type": "code",
   "execution_count": null,
   "id": "6f9c3c47",
   "metadata": {},
   "outputs": [],
   "source": []
  }
 ],
 "metadata": {
  "kernelspec": {
   "display_name": "Python 3 (ipykernel)",
   "language": "python",
   "name": "python3"
  },
  "language_info": {
   "codemirror_mode": {
    "name": "ipython",
    "version": 3
   },
   "file_extension": ".py",
   "mimetype": "text/x-python",
   "name": "python",
   "nbconvert_exporter": "python",
   "pygments_lexer": "ipython3",
   "version": "3.11.5"
  }
 },
 "nbformat": 4,
 "nbformat_minor": 5
}
