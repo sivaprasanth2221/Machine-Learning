{
 "cells": [
  {
   "cell_type": "code",
   "execution_count": null,
   "id": "242a649b",
   "metadata": {},
   "outputs": [],
   "source": [
    "import pandas as pd\n",
    "import numpy as np"
   ]
  },
  {
   "cell_type": "code",
   "execution_count": null,
   "id": "63e5786d",
   "metadata": {},
   "outputs": [],
   "source": [
    "def sigmoid(x):\n",
    "    return 1/(1+np.exp(-x))"
   ]
  },
  {
   "cell_type": "code",
   "execution_count": null,
   "id": "166aaa29",
   "metadata": {},
   "outputs": [],
   "source": [
    "df = pd.read_csv(\"Date_Fruit_Datasets.csv\")"
   ]
  },
  {
   "cell_type": "code",
   "execution_count": null,
   "id": "50f3d387",
   "metadata": {},
   "outputs": [],
   "source": [
    "input_data = np.array(df[:,:-1])\n",
    "label = np.array(df[:,-1])\n",
    "\n",
    "input_size = 33\n",
    "hidden_size = 30\n",
    "output_size = 7"
   ]
  },
  {
   "cell_type": "code",
   "execution_count": null,
   "id": "2384b68b",
   "metadata": {},
   "outputs": [],
   "source": [
    "weight_input_hidden = np.random.randn(input_size,hidden_size)\n",
    "bias_hidden = np.zeros((1,hidden_size))\n",
    "\n",
    "weights_hidden_output = np.random.randn(hidden_size,output_size)\n",
    "bias_output = np.zeros((1,output_size))"
   ]
  },
  {
   "cell_type": "code",
   "execution_count": null,
   "id": "6131680f",
   "metadata": {},
   "outputs": [],
   "source": [
    "learning_rate = 0.1\n",
    "epochs = 1000"
   ]
  },
  {
   "cell_type": "code",
   "execution_count": null,
   "id": "f5b9ae24",
   "metadata": {},
   "outputs": [],
   "source": [
    "for epoch in range(epochs):\n",
    "    \n",
    "    hidden_activation = np.dot(input_data,weights_input_hidden) + bias_hidden\n",
    "    hidden_output = sigmoid(hidden_activation)\n",
    "    output_activation = np.dot(hidden_output,weights_hidden_output) + bias_output\n",
    "    hidden_output = sigmoid(output_activation)\n",
    "    \n",
    "    error = labels - predicted_output\n",
    "    delta_output = error * predicted_output *(1 - predicted_output)\n",
    "    error_hidden = np.dot(delta_output,weights_hidden.T)\n",
    "    delta_hidden = error_hidden * hidden_output *(1 - hidden_output)\n",
    "    \n",
    "    weights_hidden_output += np.dot(hidden_output.T,delta_output) * learning_rate\n",
    "    bias_output = += np.sum(delta_output,axis=0) * learning_rate\n",
    "    weights_input_hidden += np.dot(input_data.T,delta_hidden) * learning_rate\n",
    "    bias_hidden += np.sum(delta_hidden,axis=0) * learing_rate"
   ]
  },
  {
   "cell_type": "code",
   "execution_count": null,
   "id": "ca6f29f4",
   "metadata": {},
   "outputs": [],
   "source": [
    "test_input = np.array(df[:500,-1])\n",
    "test_hidden_activation = np.dot(test_input,weight_input_hidden) + bias_hidden\n",
    "test_hidden_output = sigmoid(test_hidden_activation)\n",
    "test_output_activation = np.dot(test_hidden_output,weight_hidden_output) + bias_output\n",
    "test_predictions = sigmoid(test_output_activation)\n",
    "print(\"Predictions:\",test_predictions)"
   ]
  }
 ],
 "metadata": {
  "kernelspec": {
   "display_name": "Python 3 (ipykernel)",
   "language": "python",
   "name": "python3"
  },
  "language_info": {
   "codemirror_mode": {
    "name": "ipython",
    "version": 3
   },
   "file_extension": ".py",
   "mimetype": "text/x-python",
   "name": "python",
   "nbconvert_exporter": "python",
   "pygments_lexer": "ipython3",
   "version": "3.11.5"
  }
 },
 "nbformat": 4,
 "nbformat_minor": 5
}
