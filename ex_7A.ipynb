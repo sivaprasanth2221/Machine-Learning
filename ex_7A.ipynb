{
 "cells": [
  {
   "cell_type": "code",
   "execution_count": 1,
   "id": "9c1ea9b8",
   "metadata": {},
   "outputs": [],
   "source": [
    "import numpy as np\n",
    "import neurolab as nl"
   ]
  },
  {
   "cell_type": "code",
   "execution_count": 2,
   "id": "566ddb31",
   "metadata": {},
   "outputs": [
    {
     "name": "stdout",
     "output_type": "stream",
     "text": [
      "Test on train samples:\n",
      "S True\n",
      "I True\n",
      "V True\n",
      "A True\n"
     ]
    }
   ],
   "source": [
    "target =  [[1,1,1,1,1,\n",
    "           1,0,0,0,0,\n",
    "           1,1,1,1,1,\n",
    "           0,0,0,0,1,\n",
    "           1,1,1,1,1],\n",
    "          [1,1,1,1,1,\n",
    "           0,0,1,0,0,\n",
    "           0,0,1,0,0,\n",
    "           0,0,1,0,0,\n",
    "           1,1,1,1,1],\n",
    "          [1,0,0,0,1,\n",
    "           1,0,0,0,1,\n",
    "           0,1,0,1,0,\n",
    "           0,0,1,0,0,\n",
    "           0,0,1,0,0],\n",
    "          [0,0,1,0,0,\n",
    "           0,1,0,1,0,\n",
    "           1,1,1,1,1,\n",
    "           1,0,0,0,1,\n",
    "           1,0,0,0,1]]\n",
    "\n",
    "chars = ['S', 'I', 'V', 'A']\n",
    "target = np.asfarray(target)\n",
    "target[target == 0] = -1\n",
    "\n",
    "net = nl.net.newhop(target)\n",
    "\n",
    "output = net.sim(target)\n",
    "print(\"Test on train samples:\")\n",
    "for i in range(len(target)):\n",
    "    print(chars[i], (output[i] == target[i]).all())"
   ]
  },
  {
   "cell_type": "code",
   "execution_count": 3,
   "id": "2caf1c55",
   "metadata": {},
   "outputs": [
    {
     "name": "stdout",
     "output_type": "stream",
     "text": [
      "\n",
      "Test on defaced S:\n",
      "True Sim. steps 1\n"
     ]
    }
   ],
   "source": [
    "print(\"\\nTest on defaced S:\")\n",
    "test =np.asfarray([1,1,1,1,1,\n",
    "                   1,0,0,1,0,\n",
    "                   1,1,1,1,1,\n",
    "                   0,0,0,0,1,\n",
    "                   1,0,1,1,0])\n",
    "test[test==0] = -1\n",
    "out = net.sim([test])\n",
    "print ((out[0] == target[0]).all(), 'Sim. steps',len(net.layers[0].outs))"
   ]
  },
  {
   "cell_type": "code",
   "execution_count": 4,
   "id": "3f076994",
   "metadata": {},
   "outputs": [
    {
     "name": "stdout",
     "output_type": "stream",
     "text": [
      "\n",
      "Test on defaced I:\n",
      "True Sim. steps 1\n"
     ]
    }
   ],
   "source": [
    "print(\"\\nTest on defaced I:\")\n",
    "test =np.asfarray([1,1,1,1,1,\n",
    "                   0,0,1,0,0,\n",
    "                   0,0,0,0,0,\n",
    "                   1,0,1,0,0,\n",
    "                   1,1,1,0,1])\n",
    "test[test==0] = -1\n",
    "out = net.sim([test])\n",
    "print ((out[0] == target[1]).all(), 'Sim. steps',len(net.layers[0].outs))"
   ]
  },
  {
   "cell_type": "code",
   "execution_count": 5,
   "id": "2b18c842",
   "metadata": {},
   "outputs": [
    {
     "name": "stdout",
     "output_type": "stream",
     "text": [
      "\n",
      "Test on defaced V:\n",
      "True Sim. steps 1\n"
     ]
    }
   ],
   "source": [
    "print(\"\\nTest on defaced V:\")\n",
    "test =np.asfarray([1,0,0,0,0,\n",
    "                   1,0,0,0,0,\n",
    "                   0,0,0,1,0,\n",
    "                   0,0,1,0,0,\n",
    "                   0,0,1,0,0])\n",
    "test[test==0] = -1\n",
    "out = net.sim([test])\n",
    "print ((out[0] == target[2]).all(), 'Sim. steps',len(net.layers[0].outs))"
   ]
  },
  {
   "cell_type": "code",
   "execution_count": 6,
   "id": "ba878d72",
   "metadata": {},
   "outputs": [
    {
     "name": "stdout",
     "output_type": "stream",
     "text": [
      "\n",
      "Test on defaced A:\n",
      "True Sim. steps 1\n"
     ]
    }
   ],
   "source": [
    "print(\"\\nTest on defaced A:\")\n",
    "test =np.asfarray([0,0,1,0,0,\n",
    "                   0,0,0,1,0,\n",
    "                   1,1,1,0,1,\n",
    "                   1,0,0,0,1,\n",
    "                   1,0,1,0,1])\n",
    "test[test==0] = -1\n",
    "out = net.sim([test])\n",
    "print ((out[0] == target[3]).all(), 'Sim. steps',len(net.layers[0].outs))"
   ]
  }
 ],
 "metadata": {
  "kernelspec": {
   "display_name": "Python 3 (ipykernel)",
   "language": "python",
   "name": "python3"
  },
  "language_info": {
   "codemirror_mode": {
    "name": "ipython",
    "version": 3
   },
   "file_extension": ".py",
   "mimetype": "text/x-python",
   "name": "python",
   "nbconvert_exporter": "python",
   "pygments_lexer": "ipython3",
   "version": "3.11.5"
  }
 },
 "nbformat": 4,
 "nbformat_minor": 5
}
